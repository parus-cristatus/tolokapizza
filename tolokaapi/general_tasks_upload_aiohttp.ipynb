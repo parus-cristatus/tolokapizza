{
  "nbformat": 4,
  "nbformat_minor": 0,
  "metadata": {
    "colab": {
      "provenance": [],
      "authorship_tag": "ABX9TyPIpV/fdnOfONGJ4YEsCOHD",
      "include_colab_link": true
    },
    "kernelspec": {
      "name": "python3",
      "display_name": "Python 3"
    },
    "language_info": {
      "name": "python"
    }
  },
  "cells": [
    {
      "cell_type": "markdown",
      "metadata": {
        "id": "view-in-github",
        "colab_type": "text"
      },
      "source": [
        "<a href=\"https://colab.research.google.com/github/parus-cristatus/tolokapizza/blob/main/tolokaapi/general_tasks_upload_aiohttp.ipynb\" target=\"_parent\"><img src=\"https://colab.research.google.com/assets/colab-badge.svg\" alt=\"Open In Colab\"/></a>"
      ]
    },
    {
      "cell_type": "markdown",
      "source": [
        "Used Toloka preset *Image classification* . The template contains a single and relatively short input field called *image* (image link)\n",
        "The script won't work properly in the Sandbox, there will be *TOO_MANY_REQUESTS* errors"
      ],
      "metadata": {
        "id": "Nu4E5kPw8bvt"
      }
    },
    {
      "cell_type": "code",
      "execution_count": null,
      "metadata": {
        "id": "fMz2BkXr1jZY"
      },
      "outputs": [],
      "source": [
        "!pip install nest-asyncio"
      ]
    },
    {
      "cell_type": "code",
      "source": [
        "import csv\n",
        "import json\n",
        "import time\n",
        "import asyncio\n",
        "import aiohttp\n",
        "import nest_asyncio\n",
        "from typing import Generator, Any\n",
        "from aiohttp.client import ClientSession"
      ],
      "metadata": {
        "id": "EnezhAWf13ev"
      },
      "execution_count": null,
      "outputs": []
    },
    {
      "cell_type": "code",
      "source": [
        "token = 'y0_AAAAAAAAAAAAAAAAAAAAAAAAAAAAAAAAAAAAAAAAAAAA'\n",
        "target = 'PRODUCTION' "
      ],
      "metadata": {
        "id": "3LK2Sekr16vi"
      },
      "execution_count": null,
      "outputs": []
    },
    {
      "cell_type": "code",
      "source": [
        "pool = '36781956'\n",
        "api_resource = 'https://toloka.dev/api/v1/tasks' # PRODUCTION"
      ],
      "metadata": {
        "id": "rHie3g-m2B9m"
      },
      "execution_count": null,
      "outputs": []
    },
    {
      "cell_type": "code",
      "source": [
        "# create 10K test tasks in csv file to read from it\n",
        "for _ in range(10000):\n",
        "    with open('data.csv', mode='a', encoding='utf-8') as f:\n",
        "        w = csv.writer(f, lineterminator='\\n')\n",
        "        w.writerow(['https://wallpaperaccess.com/full/4023744.jpg'])"
      ],
      "metadata": {
        "id": "vlEnmr-k2HZV"
      },
      "execution_count": null,
      "outputs": []
    },
    {
      "cell_type": "code",
      "source": [
        "with open('data.csv', 'r') as f:\n",
        "    dataset = [i[0] for i in csv.reader(f)]\n",
        "\n",
        "tasks = [\n",
        "    {\"pool_id\": pool, \"input_values\": {\"image\": url}, \"overlap\": 1, \"infinite_overlap\": False}\n",
        "    for url in dataset\n",
        "    ]"
      ],
      "metadata": {
        "id": "YdfAYSgM2J3p"
      },
      "execution_count": null,
      "outputs": []
    },
    {
      "cell_type": "code",
      "source": [
        "nest_asyncio.apply()"
      ],
      "metadata": {
        "id": "NgAOXGe52L3N"
      },
      "execution_count": null,
      "outputs": []
    },
    {
      "cell_type": "code",
      "source": [
        "async def tasks_aiter(tasks: list) -> Generator[Any, None, None]:\n",
        "    for task in tasks:\n",
        "        yield task\n",
        "\n",
        "async def upload_tasks(toloka_tasks: list, token: str) -> None:\n",
        "    headers = {\n",
        "        \"Authorization\": f\"OAuth {token}\",\n",
        "        \"Content-Type\": \"application/JSON\"\n",
        "    }\n",
        "    async with aiohttp.ClientSession(headers=headers) as session:\n",
        "        tasks = []\n",
        "        async for data in tasks_aiter(toloka_tasks):\n",
        "            tasks.append(post_call(session, data))\n",
        "        await asyncio.gather(*tasks)\n",
        "\n",
        "async def post_call(session: ClientSession, data: dict) -> None:\n",
        "    url = api_resource\n",
        "    async with session.post(url, json=data) as response:\n",
        "        await response.json(content_type=None)"
      ],
      "metadata": {
        "id": "MnmRGcBU2Nvx"
      },
      "execution_count": null,
      "outputs": []
    },
    {
      "cell_type": "code",
      "source": [
        "start = time.time()\n",
        "asyncio.run(upload_tasks(tasks, token))\n",
        "print(round(time.time() - start, 3))"
      ],
      "metadata": {
        "id": "lhwrd-tE2QLV"
      },
      "execution_count": null,
      "outputs": []
    }
  ]
}