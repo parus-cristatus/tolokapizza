{
  "nbformat": 4,
  "nbformat_minor": 0,
  "metadata": {
    "colab": {
      "name": "get_attachments_and_upload_to_cloud.ipynb",
      "provenance": [],
      "authorship_tag": "ABX9TyP7YJmmTdc5xg271ww/3R5k",
      "include_colab_link": true
    },
    "kernelspec": {
      "name": "python3",
      "display_name": "Python 3"
    },
    "language_info": {
      "name": "python"
    }
  },
  "cells": [
    {
      "cell_type": "markdown",
      "metadata": {
        "id": "view-in-github",
        "colab_type": "text"
      },
      "source": [
        "<a href=\"https://colab.research.google.com/github/parus-cristatus/tolokapizza/blob/main/tolokaapi/get_attachments_and_upload_to_cloud.ipynb\" target=\"_parent\"><img src=\"https://colab.research.google.com/assets/colab-badge.svg\" alt=\"Open In Colab\"/></a>"
      ]
    },
    {
      "cell_type": "code",
      "source": [
        "!pip install boto3"
      ],
      "metadata": {
        "id": "6z3AUrCqJPQO"
      },
      "execution_count": null,
      "outputs": []
    },
    {
      "cell_type": "code",
      "source": [
        "import boto3\n",
        "import time\n",
        "import requests\n",
        "import threading"
      ],
      "metadata": {
        "id": "LHYPva8fJTki"
      },
      "execution_count": 9,
      "outputs": []
    },
    {
      "cell_type": "code",
      "execution_count": 4,
      "metadata": {
        "id": "YHklxA24I4Pu"
      },
      "outputs": [],
      "source": [
        "API_KEY = 'YYYYYYYYYYYYYYYYYYYYY'\n",
        "SECRET_ACCESS_KEY = 'ZZZZZZZZZZZZZZZZZZZZZZZZZZZZZ'\n",
        "BUCKET_NAME = 'my-bucket'\n",
        "\n",
        "TOLOKA_TOKEN = 'XXXXXXXXXXXXXXXXXXXXXXXXXXXXXXX'"
      ]
    },
    {
      "cell_type": "code",
      "source": [
        "session = boto3.session.Session()\n",
        "\n",
        "s3 = session.client(\n",
        "    service_name='s3',\n",
        "    endpoint_url='https://storage.yandexcloud.net',\n",
        "    aws_access_key_id = API_KEY,\n",
        "    aws_secret_access_key = SECRET_ACCESS_KEY\n",
        ")"
      ],
      "metadata": {
        "id": "1hwTfqlTJCOW"
      },
      "execution_count": 10,
      "outputs": []
    },
    {
      "cell_type": "code",
      "source": [
        "def check_runtime(func):\n",
        "    def wrapped(args):\n",
        "        start = time.time()\n",
        "        func(args)\n",
        "        end = time.time()\n",
        "        print()\n",
        "        print(f'Function takes: {round(end - start, 3)} seconds')\n",
        "    \n",
        "    return wrapped"
      ],
      "metadata": {
        "id": "n-s-cjsdJEZ4"
      },
      "execution_count": 11,
      "outputs": []
    },
    {
      "cell_type": "code",
      "source": [
        "def change_name(id: str, file_name: str) -> str:\n",
        "    name = file_name.split('.')[0]\n",
        "    postfix = id.split('-')[4]\n",
        "    format = file_name.split('.')[1]\n",
        "\n",
        "    return f\"{name}_{postfix}.{format}\"\n",
        "\n",
        "\n",
        "def get_call(token: str, call: str, params: dict = {}) -> dict:\n",
        "    headers = {\n",
        "        \"Authorization\": \"OAuth \" + token\n",
        "    }\n",
        "\n",
        "    response = requests.get(url=f'https://sandbox.toloka.yandex.com/api/v1/{call}', headers=headers, params=params)\n",
        "    response.raise_for_status()\n",
        "\n",
        "    return response\n",
        "\n",
        "\n",
        "def get_attachments(pool_id: str) -> dict:\n",
        "    param = {\n",
        "        \"pool_id\": pool_id\n",
        "        }\n",
        "    response = get_call(token=TOLOKA_TOKEN, call=f'attachments', params=param)\n",
        "\n",
        "    return response.json()\n",
        "\n",
        "\n",
        "def get_attachment_ids(data: dict) -> dict:\n",
        "    return {i['id']: i['name'] for i in data['items']}\n",
        "\n",
        "\n",
        "def upload_to_cloud(bucket: str, file_name: str, content: dict):\n",
        "        print(f'Direct link: https://storage.yandexcloud.net/{bucket}/{file_name}')\n",
        "        s3.put_object(Bucket=bucket, Key=file_name, Body=content.content, StorageClass='STANDARD')\n",
        "        \n",
        "\n",
        "\n",
        "def upload_to_anonfiles(file_name: str, content: dict):\n",
        "    \"\"\"Upload file to https://anonfiles.com/\"\"\"\n",
        "\n",
        "    info = requests.post('https://api.anonfiles.com/upload', files={'file': (f'{file_name}', content.content)})\n",
        "    print(f\"Direct link: {info.json()['data']['file']['url']['full']}\")\n",
        "\n",
        "\n",
        "@check_runtime\n",
        "def upload_attachments(attachments: dict):\n",
        "    for id, name in attachments.items():\n",
        "        response = get_call(token=TOLOKA_TOKEN, call=f'attachments/{id}/download')\n",
        "        file_name = change_name(id=id, file_name=name)\n",
        "\n",
        "        threading.Thread(target=upload_to_cloud, args=(BUCKET_NAME, file_name, response)).start()\n",
        "\n",
        "        # s3.put_object(Bucket=BUCKET_NAME, Key=file_name, Body=response.content, StorageClass='STANDARD')\n",
        "        # print(f'Direct link: https://storage.yandexcloud.net/{BUCKET_NAME}/{file_name}')\n",
        "\n",
        "        # info = requests.post('https://api.anonfiles.com/upload', files={'file': (f'{file_name}', response.content)})\n",
        "        # print(f\"Direct link: {info.json()['data']['file']['url']['full']}\")\n",
        "\n",
        "        #threading.Thread(target=upload_to_anonfiles, args=(file_name, response)).start()"
      ],
      "metadata": {
        "id": "-NEMUk1AJHDH"
      },
      "execution_count": 12,
      "outputs": []
    },
    {
      "cell_type": "code",
      "source": [
        "pool_id = '1193556'\n",
        "json_data = get_attachments(pool_id=pool_id)\n",
        "attachments = get_attachment_ids(json_data)\n",
        "upload_attachments(attachments)"
      ],
      "metadata": {
        "id": "iiXSlCiMJK77"
      },
      "execution_count": null,
      "outputs": []
    }
  ]
}