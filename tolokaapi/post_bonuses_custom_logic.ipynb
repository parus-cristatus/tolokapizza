{
  "nbformat": 4,
  "nbformat_minor": 0,
  "metadata": {
    "colab": {
      "name": "post_bonuses_custom_logic.ipynb",
      "provenance": [],
      "authorship_tag": "ABX9TyOUnxofM7Br6aw+csPajP9K",
      "include_colab_link": true
    },
    "kernelspec": {
      "name": "python3",
      "display_name": "Python 3"
    },
    "language_info": {
      "name": "python"
    }
  },
  "cells": [
    {
      "cell_type": "markdown",
      "metadata": {
        "id": "view-in-github",
        "colab_type": "text"
      },
      "source": [
        "<a href=\"https://colab.research.google.com/github/parus-cristatus/tolokapizza/blob/main/tolokaapi/post_bonuses_custom_logic.ipynb\" target=\"_parent\"><img src=\"https://colab.research.google.com/assets/colab-badge.svg\" alt=\"Open In Colab\"/></a>"
      ]
    },
    {
      "cell_type": "markdown",
      "source": [
        "**Docs:** https://toloka.ai/ru/docs/api/concepts/create-bonus.html"
      ],
      "metadata": {
        "id": "6_vLsLg3Lqmd"
      }
    },
    {
      "cell_type": "code",
      "execution_count": 1,
      "metadata": {
        "id": "u9-oRxwQLTc4"
      },
      "outputs": [],
      "source": [
        "import requests\n",
        "import json"
      ]
    },
    {
      "cell_type": "code",
      "source": [
        "endpoint = \"https://sandbox.toloka.yandex.com/api/v1\" #Sandbox environment\n",
        "token = \"OAuth AAAAAAAAAAAAAAAAAAAAAAAAAAAAAAAAAAAAAAAA\""
      ],
      "metadata": {
        "id": "zk0FjF99Lfwk"
      },
      "execution_count": 2,
      "outputs": []
    },
    {
      "cell_type": "code",
      "source": [
        "# configure GET request\n",
        "def get_call(resource):\n",
        "    headers = {\n",
        "        \"Authorization\": token\n",
        "    }\n",
        "\n",
        "    res = requests.get(endpoint + resource, headers=headers)\n",
        "    return res"
      ],
      "metadata": {
        "id": "2cFyud6YL2Rw"
      },
      "execution_count": 3,
      "outputs": []
    },
    {
      "cell_type": "code",
      "source": [
        "# configure POST request\n",
        "def post_call(resource, data, item: str = None):\n",
        "    headers = {\n",
        "        \"Authorization\": token,\n",
        "        \"Content-Type\": \"application/JSON\"\n",
        "    }\n",
        "\n",
        "    res = requests.post(endpoint + resource, headers=headers, data=data)\n",
        "\n",
        "    return res if item is None else (res, res.json()[item])"
      ],
      "metadata": {
        "id": "ofMZS_eKL9s4"
      },
      "execution_count": 4,
      "outputs": []
    },
    {
      "cell_type": "code",
      "source": [
        "# track async operations\n",
        "def status_operations(id: str):\n",
        "    print(get_call(f'/operations/{id}/log').text)"
      ],
      "metadata": {
        "id": "eC1uci1OME_F"
      },
      "execution_count": 5,
      "outputs": []
    },
    {
      "cell_type": "code",
      "source": [
        "# configure POST bonuses request body\n",
        "def set_post_data(user_id: str, amount: float, message: str, private: str = None, title: str = \"Bonuses for Test project.\") -> dict:\n",
        "    return {\n",
        "        \"user_id\": user_id, \n",
        "        \"amount\": amount, \n",
        "        \"private_comment\": private, \n",
        "        \"public_title\": {\n",
        "            \"EN\": title\n",
        "            }, \n",
        "        \"public_message\": {\n",
        "            \"EN\": message\n",
        "            }\n",
        "        }"
      ],
      "metadata": {
        "id": "b7FWY7WOML9K"
      },
      "execution_count": 6,
      "outputs": []
    },
    {
      "cell_type": "code",
      "source": [
        "POOL_ID = 1181996\n",
        "ASSIGMENT_STATUS = 'SUBMITTED'\n",
        "operation_ids = []\n",
        "\n",
        "\n",
        "result = get_call(f'/assignments?status={ASSIGMENT_STATUS}&pool_id={POOL_ID}').json()\n",
        "\n",
        "\n",
        "def get_unique_ids(assignments_data: dict) -> set:\n",
        "    \"\"\"Returns unique user ids\n",
        "    Arguments:\n",
        "        assignments_data {dict}: data from get_call function with 'items' key\n",
        "\n",
        "    Example:\n",
        "        get_unique_ids(result['items'])\n",
        "    \"\"\"\n",
        "    return {i['user_id'] for i in assignments_data}\n",
        "\n",
        "\n",
        "def get_num_completed_task(assignments_data: dict, user_id: str) -> int:\n",
        "    \"\"\"Returns number of completed tasks\n",
        "    Arguments:\n",
        "        assignments_data {dict}: data from get_call function with 'items' key\n",
        "        user_id {str}: user id\n",
        "\n",
        "    Example:\n",
        "        get_num_completed_task(result['items'], '517e4d83f89b2e7b9')\n",
        "    \"\"\"\n",
        "    return [i['user_id'] for i in result['items']].count(user_id)\n",
        "\n",
        "\n",
        "bonuses = {\n",
        "    3: {'amount': 0.005, 'message': 'Keep your damn 0.005 cents!'},\n",
        "    5: {'amount': 0.007, 'message': 'Not bad dude! Here is your 0.007 cents!'},\n",
        "    9: {'amount': 0.009, 'message': 'Thank you! Now you\\'re rich here\\'s your 0.009 cents.'}\n",
        "    }\n",
        "\n",
        "# Get unique users IDs who submitted assignments in the pool\n",
        "for id in get_unique_ids(result['items']):\n",
        "    # if assignments quatity > 3\n",
        "    if 3 <= get_num_completed_task(result['items'], id) <= 5:\n",
        "        response = post_call(\n",
        "            resource='/user-bonuses?async_mode=true&skip_invalid_items=true', \n",
        "            data=json.dumps(set_post_data(user_id=id, **bonuses[3])), \n",
        "            item='id'\n",
        "            )\n",
        "        operation_ids.append(response[1])\n",
        "    # if assignments quatity > 5\n",
        "    elif 5 < get_num_completed_task(result['items'], id) <= 8:\n",
        "        response = post_call(\n",
        "            resource='/user-bonuses?async_mode=true&skip_invalid_items=true', \n",
        "            data=json.dumps(set_post_data(user_id=id, **bonuses[5])), \n",
        "            item='id'\n",
        "            )\n",
        "        operation_ids.append(response[1])\n",
        "    # if assignments quatity > 8\n",
        "    elif 8 < get_num_completed_task(result['items'], id) <= 10:\n",
        "        response = post_call(\n",
        "            resource='/user-bonuses?async_mode=true&skip_invalid_items=true', \n",
        "            data=json.dumps(set_post_data(user_id=id, **bonuses[9])), \n",
        "            item='id'\n",
        "            )\n",
        "        operation_ids.append(response[1])"
      ],
      "metadata": {
        "id": "phtZor-8MVQ6"
      },
      "execution_count": 9,
      "outputs": []
    },
    {
      "cell_type": "code",
      "source": [
        "for id in operation_ids:\n",
        "   status_operations(id=id)"
      ],
      "metadata": {
        "id": "oGyUnoauNlDM"
      },
      "execution_count": null,
      "outputs": []
    },
    {
      "cell_type": "markdown",
      "source": [
        "Get the number of assignments submitted by specific users"
      ],
      "metadata": {
        "id": "0Kh5g1RiNDIR"
      }
    },
    {
      "cell_type": "code",
      "source": [
        "users_id = {i['user_id'] for i in result['items']}\n",
        "for i in users_id:\n",
        "    print([i['user_id'] for i in result['items']].count(i))"
      ],
      "metadata": {
        "id": "VpvQ7-kZNJUD"
      },
      "execution_count": null,
      "outputs": []
    }
  ]
}