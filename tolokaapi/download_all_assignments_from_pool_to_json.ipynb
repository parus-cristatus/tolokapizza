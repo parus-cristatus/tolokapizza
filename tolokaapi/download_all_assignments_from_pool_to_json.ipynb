{
  "nbformat": 4,
  "nbformat_minor": 0,
  "metadata": {
    "colab": {
      "provenance": [],
      "collapsed_sections": [],
      "include_colab_link": true
    },
    "kernelspec": {
      "name": "python3",
      "display_name": "Python 3"
    },
    "language_info": {
      "name": "python"
    }
  },
  "cells": [
    {
      "cell_type": "markdown",
      "metadata": {
        "id": "view-in-github",
        "colab_type": "text"
      },
      "source": [
        "<a href=\"https://colab.research.google.com/github/parus-cristatus/tolokapizza/blob/main/tolokaapi/download_all_assignments_from_pool_to_json.ipynb\" target=\"_parent\"><img src=\"https://colab.research.google.com/assets/colab-badge.svg\" alt=\"Open In Colab\"/></a>"
      ]
    },
    {
      "cell_type": "markdown",
      "source": [
        "**Docs**: https://toloka.ai/en/docs/api/concepts/result"
      ],
      "metadata": {
        "id": "kYnLej27iVOe"
      }
    },
    {
      "cell_type": "code",
      "execution_count": 5,
      "metadata": {
        "id": "xzTS0U7IbYPs"
      },
      "outputs": [],
      "source": [
        "import requests\n",
        "import json\n",
        "import csv\n",
        "from typing import Generator"
      ]
    },
    {
      "cell_type": "code",
      "source": [
        "endpoint = 'https://sandbox.toloka.dev/api/v1/' # https://toloka.dev/api/v1/ for Production\n",
        "token = 'AQAxxxxxxxxxxxxxxxxxxxxxxxCxPF6Q' # Toloka OAuth token"
      ],
      "metadata": {
        "id": "wJ2vusQVbrHP"
      },
      "execution_count": 10,
      "outputs": []
    },
    {
      "cell_type": "code",
      "source": [
        "# GET call\n",
        "def get_call(call: str, token: str, endpoint: str, params: dict=None) -> dict:\n",
        "    \"\"\"Returns json data from get request.\n",
        "    \n",
        "    Arguments:\n",
        "        call: parameter\n",
        "        token: toloka token (sandbox or prod)\n",
        "        endpoint: endpoint (sandbox or prod)\n",
        "        params: get call params\n",
        "    \n",
        "    Examples:\n",
        "        >>> endpoint = 'https://toloka.dev/api/v1/'\n",
        "        >>> token = 'KpC_UWW4h17E...'\n",
        "        >>> get_call('projects', token, endpoint, {'limit': 100})\n",
        "    \"\"\"\n",
        "    headers = {\n",
        "        \"Authorization\": \"OAuth \" + token\n",
        "    }\n",
        "    response = requests.get(url=f\"{endpoint}{call}\", headers=headers, params=params)\n",
        "    return response.json()"
      ],
      "metadata": {
        "id": "PNjtbrQbb4bN"
      },
      "execution_count": 7,
      "outputs": []
    },
    {
      "cell_type": "code",
      "source": [
        "pool = '1181996' # Pool ID where to download accepted assignments from\n",
        "result = {} \n",
        "\n",
        "def params(pool: int, limit: int, status: str='ACCEPTED', id_gt: str=None) ->dict:\n",
        "    return {'pool_id': pool, 'limit': limit, 'status': status, 'id_gt': id_gt}\n",
        "\n",
        "def get_assignments(limit: int) ->Generator[dict, None, None]:\n",
        "    assignments = get_call('assignments', token, endpoint, params(pool, limit))\n",
        "    last_id = assignments['items'][-1]['id']\n",
        "    has_more = assignments['has_more']\n",
        "    while True:\n",
        "        if has_more:\n",
        "            yield assignments['items']\n",
        "            assignments = get_call('assignments', token, endpoint, params(pool, limit, id_gt=last_id))\n",
        "            last_id = assignments['items'][-1]['id']\n",
        "            has_more = assignments['has_more']\n",
        "            \n",
        "        else:\n",
        "            yield assignments['items']\n",
        "            break\n",
        "\n",
        "all_items = (i for items in get_assignments(300) for i in items) # Max limit for stable work is 300. Default is 50.\n",
        "\n",
        "result[\"items\"] = [item for item in all_items]\n",
        "result[\"length\"] = len(result[\"items\"])\n",
        "\n",
        "\n",
        "with open('accepted_assignments.json', 'w', encoding='utf-8') as f:\n",
        "    f.write(json.dumps(result, indent=4))"
      ],
      "metadata": {
        "id": "SLRcRK9LBucA"
      },
      "execution_count": 9,
      "outputs": []
    }
  ]
}