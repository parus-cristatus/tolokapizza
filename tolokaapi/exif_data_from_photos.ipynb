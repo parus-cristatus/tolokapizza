{
  "nbformat": 4,
  "nbformat_minor": 0,
  "metadata": {
    "colab": {
      "name": "exif_data_from_photos.ipynb",
      "provenance": [],
      "authorship_tag": "ABX9TyPAOC7MwdE0sMERomXEv1W/",
      "include_colab_link": true
    },
    "kernelspec": {
      "name": "python3",
      "display_name": "Python 3"
    },
    "language_info": {
      "name": "python"
    }
  },
  "cells": [
    {
      "cell_type": "markdown",
      "metadata": {
        "id": "view-in-github",
        "colab_type": "text"
      },
      "source": [
        "<a href=\"https://colab.research.google.com/github/parus-cristatus/tolokapizza/blob/main/tolokaapi/exif_data_from_photos.ipynb\" target=\"_parent\"><img src=\"https://colab.research.google.com/assets/colab-badge.svg\" alt=\"Open In Colab\"/></a>"
      ]
    },
    {
      "cell_type": "markdown",
      "source": [
        "Template Builder template: https://bit.ly/3mmyygl"
      ],
      "metadata": {
        "id": "pVyHKxnYGwcb"
      }
    },
    {
      "cell_type": "code",
      "source": [
        "from PIL import Image\n",
        "import requests\n",
        "import threading\n",
        "import json\n",
        "from concurrent.futures import ThreadPoolExecutor\n",
        "from io import BytesIO"
      ],
      "metadata": {
        "id": "Z0Fb-1K8F99v"
      },
      "execution_count": 9,
      "outputs": []
    },
    {
      "cell_type": "code",
      "execution_count": 6,
      "metadata": {
        "id": "Zi58wgXhFlAO"
      },
      "outputs": [],
      "source": [
        "TOLOKA_TOKEN = 'XXXXXXXXXXXXXXXXXXXXXXXXXXXX'\n",
        "pool_id = '1111111'"
      ]
    },
    {
      "cell_type": "code",
      "source": [
        "def get_exif(filename):\n",
        "    image = Image.open(filename)\n",
        "    image.verify()\n",
        "\n",
        "    return image._getexif()\n",
        "\n",
        "\n",
        "def get_call(token: str, call: str, params: dict = {}) -> dict:\n",
        "    headers = {\n",
        "        \"Authorization\": \"OAuth \" + token\n",
        "    }\n",
        "\n",
        "    response = requests.get(url=f'https://sandbox.toloka.yandex.com/api/v1/{call}', headers=headers, params=params) #or production endpoint\n",
        "    response.raise_for_status()\n",
        "\n",
        "    return response\n",
        "\n",
        "\n",
        "def get_attachments(pool_id: str) -> dict:\n",
        "    param = {\n",
        "        \"pool_id\": pool_id\n",
        "        }\n",
        "    response = get_call(token=TOLOKA_TOKEN, call=f'attachments', params=param)\n",
        "\n",
        "    return response.json()\n",
        "\n",
        "\n",
        "def get_attachment_ids(data: dict) -> dict:\n",
        "    return {i['id']: i['name'] for i in data['items']}\n",
        "\n",
        "def get_google_pos(cardinal_dir: tuple, deg: tuple, min: tuple, sec: tuple):\n",
        "    g = '%C2%B0'\n",
        "    s = '%22'\n",
        "\n",
        "    lat = f\"{deg[0]}{g}{min[0]}'{str(round(sec[0], 1))}{s}{cardinal_dir[0]}\"\n",
        "    lon = f\"{deg[1]}{g}{min[1]}'{str(round(sec[1], 1))}{s}{cardinal_dir[1]}\"\n",
        "\n",
        "    return f\"https://www.google.com/maps/place/{lat}+{lon}\"\n",
        "\n",
        "\n",
        "def coord_from_attachments(attachments: dict, path: str=''):\n",
        "    for id in attachments.keys():\n",
        "        with ThreadPoolExecutor() as e:\n",
        "            future_data = e.submit(get_call, TOLOKA_TOKEN, f'attachments/{id}')\n",
        "            future_attachment = e.submit(get_call, TOLOKA_TOKEN, f'attachments/{id}/download')\n",
        "            data = future_data.result().json()\n",
        "            attachment = future_attachment.result()\n",
        "            \n",
        "        exif = get_exif(BytesIO(attachment.content))\n",
        "\n",
        "        cardinal_dir = (exif[34853][1], exif[34853][3])\n",
        "        \n",
        "        if '\\x00' in cardinal_dir:\n",
        "            continue\n",
        "\n",
        "        deg = (exif[34853][2][0][0], exif[34853][4][0][0])\n",
        "        min = (exif[34853][2][1][0], exif[34853][4][1][0])\n",
        "        \n",
        "        try:\n",
        "            sec = (exif[34853][2][2][0] / exif[34853][2][2][1], exif[34853][4][2][0] / exif[34853][4][2][1])\n",
        "            print('------------------------------------------')\n",
        "            print(f\"Assignment ID: {data['details']['assignment_id']}\")\n",
        "            print(f\"User ID: {data['details']['user_id']}\")\n",
        "            print(f\"Created: {data['created']}\")\n",
        "            print()\n",
        "            print(f\"Latitude: {deg[0]}° {min[0]}' {str(round(sec[0], 5)).ljust(8, '0')}\\\" {cardinal_dir[0]}\")\n",
        "            print(f\"Longitude: {deg[1]}° {min[1]}' {str(round(sec[1], 5)).ljust(8, '0')}\\\" {cardinal_dir[1]}\")\n",
        "            print(get_google_pos(cardinal_dir, deg, min, sec))\n",
        "            print()\n",
        "        except ZeroDivisionError:\n",
        "            pass"
      ],
      "metadata": {
        "id": "XGFdU2q_FxWD"
      },
      "execution_count": 10,
      "outputs": []
    },
    {
      "cell_type": "code",
      "source": [
        "json_data = get_attachments(pool_id=pool_id)\n",
        "attachments = get_attachment_ids(json_data)\n",
        "coord_from_attachments(attachments=attachments)"
      ],
      "metadata": {
        "id": "jSkGIIanF5zh"
      },
      "execution_count": null,
      "outputs": []
    }
  ]
}