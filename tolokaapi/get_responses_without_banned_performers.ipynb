{
  "nbformat": 4,
  "nbformat_minor": 0,
  "metadata": {
    "colab": {
      "provenance": [],
      "include_colab_link": true
    },
    "kernelspec": {
      "name": "python3",
      "display_name": "Python 3"
    },
    "language_info": {
      "name": "python"
    }
  },
  "cells": [
    {
      "cell_type": "markdown",
      "metadata": {
        "id": "view-in-github",
        "colab_type": "text"
      },
      "source": [
        "<a href=\"https://colab.research.google.com/github/parus-cristatus/tolokapizza/blob/main/tolokaapi/get_responses_without_banned_performers.ipynb\" target=\"_parent\"><img src=\"https://colab.research.google.com/assets/colab-badge.svg\" alt=\"Open In Colab\"/></a>"
      ]
    },
    {
      "cell_type": "markdown",
      "source": [
        "**Docs:**\n",
        "\n",
        "Get responses: https://toloka.ai/docs/api/result/\n",
        "\n",
        "Get bans: https://toloka.ai/docs/api/ban-get-list/\n",
        "\n",
        "* Bans are considered at the moment of getting assignments and are checked once. If a ban has expiration date and it has already expired - there will be an empty array in the response. Project ban takes into consideration current ban on **any** pool in the project."
      ],
      "metadata": {
        "id": "FygeTJOECvPy"
      }
    },
    {
      "cell_type": "code",
      "execution_count": 56,
      "metadata": {
        "id": "ptxDpLRbTz2A"
      },
      "outputs": [],
      "source": [
        "import requests\n",
        "from csv import DictWriter"
      ]
    },
    {
      "cell_type": "code",
      "source": [
        "endpoint = \"https://sandbox.toloka.dev/api/v1/\" # https://toloka.dev/api/v1/ for Production\n",
        "token = input(\"Please enter your token: \") # Toloka OAuth token"
      ],
      "metadata": {
        "id": "xEJuqaGgV8i5"
      },
      "execution_count": null,
      "outputs": []
    },
    {
      "cell_type": "code",
      "source": [
        "def get_call(call: str, token: str, endpoint: str, params: dict=None):\n",
        "    headers = {\n",
        "        \"Authorization\": \"OAuth \" + token\n",
        "    }\n",
        "    try:\n",
        "        response = requests.get(f\"{endpoint}{call}\", headers=headers, params=params)\n",
        "        return response.json()\n",
        "    except requests.exceptions.RequestException as error:\n",
        "        print(error)"
      ],
      "metadata": {
        "id": "IHpzGMKsWEjg"
      },
      "execution_count": 57,
      "outputs": []
    },
    {
      "cell_type": "code",
      "source": [
        "pool = \"1476980\"\n",
        "project = \"136531\""
      ],
      "metadata": {
        "id": "-kuYjJGwWraj"
      },
      "execution_count": 58,
      "outputs": []
    },
    {
      "cell_type": "code",
      "source": [
        "def get_assignments_params(pool, limit, status: str=\"ACCEPTED\", sort: str=\"id\", id_gt: str=None) ->dict:\n",
        "    return {\n",
        "        \"pool_id\": pool,\n",
        "        \"limit\": limit,\n",
        "        \"status\": status,\n",
        "        \"sort\": sort,\n",
        "        \"id_gt\": id_gt\n",
        "    } "
      ],
      "metadata": {
        "id": "Bw-m8ctFY_CI"
      },
      "execution_count": 59,
      "outputs": []
    },
    {
      "cell_type": "code",
      "source": [
        "# can change to PROJECT scope with project ID\n",
        "def get_bans_params(pool, user_id, scope: str=\"POOL\") ->dict:\n",
        "    return {\n",
        "        \"pool_id\": pool,\n",
        "        \"user_id\": user_id,\n",
        "        \"scope\": scope\n",
        "    } "
      ],
      "metadata": {
        "id": "utY1jXXzb0dI"
      },
      "execution_count": 60,
      "outputs": []
    },
    {
      "cell_type": "code",
      "source": [
        "banned_users = set()\n",
        "not_banned_users = set()\n",
        "\n",
        "def sort_user(user):\n",
        "    if user not in banned_users and user not in not_banned_users:\n",
        "        bans = get_call(\"user-restrictions\", token, endpoint, params=get_bans_params(pool, user))\n",
        "        if not bans[\"items\"]:\n",
        "            not_banned_users.add(user)\n",
        "        else:\n",
        "            banned_users.add(user)"
      ],
      "metadata": {
        "id": "eaSskTUPbMo8"
      },
      "execution_count": 73,
      "outputs": []
    },
    {
      "cell_type": "code",
      "source": [
        "field_names = [\"assignment\", \"user\", \"task\", \"input\", \"output\", \"golden\"]\n",
        "\n",
        "def write_to_csv(data: dict):\n",
        "        with open(\"output.csv\", \"a\") as output:\n",
        "            dictwriter_object = DictWriter(output, fieldnames=field_names)\n",
        "            dictwriter_object.writerow(data)"
      ],
      "metadata": {
        "id": "6Cxbt7q3J-NI"
      },
      "execution_count": 74,
      "outputs": []
    },
    {
      "cell_type": "code",
      "source": [
        "def create_csv_row(assignment):\n",
        "    for idx, task in enumerate(assignment[\"tasks\"]):\n",
        "        data = {\n",
        "                \"assignment\": assignment[\"id\"],\n",
        "                \"user\": assignment[\"user_id\"],\n",
        "                \"task\": assignment[\"tasks\"][idx][\"id\"],\n",
        "                \"input\": assignment[\"tasks\"][idx][\"input_values\"],\n",
        "                \"output\": assignment[\"solutions\"][idx][\"output_values\"],\n",
        "                \"golden\": \"golden\" if \"known_solutions\" in task else None\n",
        "                }\n",
        "\n",
        "        write_to_csv(data)"
      ],
      "metadata": {
        "id": "mX3EUqn9GnFA"
      },
      "execution_count": 75,
      "outputs": []
    },
    {
      "cell_type": "code",
      "source": [
        "def get_assignments(limit: int=300):\n",
        "    assignments = get_call(\"assignments\", token, endpoint, params=get_assignments_params(pool, limit))\n",
        "    last_id = assignments[\"items\"][-1][\"id\"]\n",
        "    has_more = assignments[\"has_more\"]\n",
        "\n",
        "    while (True):\n",
        "        if has_more:\n",
        "            for assignment in assignments[\"items\"]:\n",
        "\n",
        "                user = assignment[\"user_id\"]\n",
        "                sort_user(user)\n",
        "\n",
        "                if user in not_banned_users:\n",
        "                    create_csv_row(assignment)\n",
        "\n",
        "            # repeat API call if there're more assignments\n",
        "            assignments = get_call('assignments', token, endpoint, params=get_assignments_params(pool, limit, id_gt=last_id))\n",
        "            last_id = assignments['items'][-1]['id']\n",
        "            has_more = assignments['has_more']\n",
        "        else:\n",
        "\n",
        "            # If has_more is False then process returned assignments and that's all\n",
        "            for assignment in assignments[\"items\"]:\n",
        "\n",
        "                user = assignment[\"user_id\"]\n",
        "                sort_user(user)\n",
        "\n",
        "                if user in not_banned_users:\n",
        "                    create_csv_row(assignment)\n",
        "\n",
        "            break"
      ],
      "metadata": {
        "id": "hy7b3_x2W2qV"
      },
      "execution_count": 76,
      "outputs": []
    },
    {
      "cell_type": "code",
      "source": [
        "get_assignments()\n",
        "print(f\"Banned users: {banned_users}, Not banned users: {not_banned_users}\")"
      ],
      "metadata": {
        "id": "X6_ENXYo5Hjj"
      },
      "execution_count": null,
      "outputs": []
    }
  ]
}