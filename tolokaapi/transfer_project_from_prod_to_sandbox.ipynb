{
  "nbformat": 4,
  "nbformat_minor": 0,
  "metadata": {
    "colab": {
      "provenance": [],
      "collapsed_sections": []
    },
    "kernelspec": {
      "name": "python3",
      "display_name": "Python 3"
    },
    "language_info": {
      "name": "python"
    }
  },
  "cells": [
    {
      "cell_type": "code",
      "execution_count": 136,
      "metadata": {
        "id": "Vym2KEdAmNz_"
      },
      "outputs": [],
      "source": [
        "import requests\n",
        "import json\n",
        "from tqdm import tqdm\n",
        "from typing import Generator, Tuple, List"
      ]
    },
    {
      "cell_type": "code",
      "source": [
        "SANDBOX_ENDPOINT = 'https://sandbox.toloka.dev/api/v1/'\n",
        "PROD_ENDPOINT = 'https://toloka.dev/api/v1/'"
      ],
      "metadata": {
        "id": "wfa6OVm0mV7S"
      },
      "execution_count": 137,
      "outputs": []
    },
    {
      "cell_type": "code",
      "source": [
        "SANDBOX_TOKEN = 'AQAAAABWk9FyAAIbum7sw6Wi4kJ4mAHKGCxPF6Q'\n",
        "PROD_TOKEN = 'AQAAAABWk9FyAACtpd4GycXRKUdKpC_UWW4h16A'"
      ],
      "metadata": {
        "id": "oV43-1wSmtWz"
      },
      "execution_count": 138,
      "outputs": []
    },
    {
      "cell_type": "code",
      "source": [
        "def get_call(endpoint: str, call: str, token: str, params: dict=None) -> dict:\n",
        "    \"\"\"Returns json data from get request.\n",
        "    \n",
        "    Arguments:\n",
        "        call: parameter\n",
        "        token: toloka token (sandbox or prod)\n",
        "        endpoint: endpoint (sandbox or prod)\n",
        "        params: get call params\n",
        "    \n",
        "    Examples:\n",
        "        >>> endpoint_from = 'https://toloka.dev/api/v1/'\n",
        "        >>> token_from = 'KpC_UWW4h17E...'\n",
        "        >>> get_call('projects', token_from, endpoint_from, {'limit': 100})\n",
        "    \"\"\"\n",
        "    headers = {\n",
        "        \"Authorization\": \"OAuth \" + token\n",
        "    }\n",
        "    response = requests.get(url=f\"{endpoint}{call}\", headers=headers, params=params)\n",
        "    return response.json()"
      ],
      "metadata": {
        "id": "C48mJHBAm6R7"
      },
      "execution_count": 139,
      "outputs": []
    },
    {
      "cell_type": "code",
      "source": [
        "def post_call(endpoint: str, call: str, token: str, data: str) -> dict:\n",
        "    \"\"\"Returns json data from post request.\n",
        "    \n",
        "    Arguments:\n",
        "        call: parameter\n",
        "        endpoint: endpoint (sandbox or prod)\n",
        "        token: toloka token (sandbox or prod)\n",
        "        data: data to send in the body of the request\n",
        "    \n",
        "    Examples:\n",
        "        >>> endpoint_to = 'https://sandbox.toloka.dev/api/v1/'\n",
        "        >>> token_to = 'HQGC_xPF6W...'\n",
        "        >>> post_call('projects', endpoint_to, token_to, json.dumps(project_from))\n",
        "    \"\"\"\n",
        "    headers={\n",
        "        \"Authorization\": \"OAuth \" + token,\n",
        "        \"Content-Type\": \"application/JSON\"\n",
        "    }\n",
        "    response = requests.post(f\"{endpoint}{call}\", data=data, headers=headers)\n",
        "    return response.json()"
      ],
      "metadata": {
        "id": "A9HUbw7IpUYf"
      },
      "execution_count": 140,
      "outputs": []
    },
    {
      "cell_type": "code",
      "source": [
        "def get_values_from_dict(keys: list, data: dict) -> Generator[List[str], None, None]:\n",
        "    \"\"\"Returns generator\n",
        "    \n",
        "    Arguments:\n",
        "        keys: list keys by which looking for values\n",
        "        data: dict from which get the values\n",
        "\n",
        "    Examples:\n",
        "        >>> get_values_from_dict(['key_id','skill_id'], data)\n",
        "    \"\"\"\n",
        "    if isinstance(data, dict):\n",
        "        for k, v in data.items():\n",
        "            if k in keys and v.isdigit():\n",
        "                yield v\n",
        "            if isinstance(v, (dict, list)):\n",
        "                yield from get_values_from_dict(keys, v)\n",
        "    elif isinstance(data, list):\n",
        "        for i in data:\n",
        "            if i.get('key') in keys:\n",
        "                yield i.get('value')\n",
        "            yield from get_values_from_dict(keys, i)"
      ],
      "metadata": {
        "id": "9sLeoMcoxExf"
      },
      "execution_count": 141,
      "outputs": []
    },
    {
      "cell_type": "code",
      "source": [
        "def deep_upd_dict(data: dict, values: dict) -> dict:\n",
        "    \"\"\"Returns dict with updated values.\n",
        "    \n",
        "    Arguments:\n",
        "        data: dict in which to update the values\n",
        "        values: dict with new values\n",
        "\n",
        "    Examples:\n",
        "        >>> data = {\"filter\": {'or': [{'category': 'skill', 'key': '29716', 'operator': 'NE'}]}}\n",
        "        >>> values = {'29716': '11659'}\n",
        "        >>> deep_upd_dict(data, values)\n",
        "    \"\"\"\n",
        "    if isinstance(data, dict):\n",
        "        return {k: deep_upd_dict(v, values) for k, v in data.items()}\n",
        "    elif isinstance(data, list):\n",
        "        return [deep_upd_dict(x, values) for x in data]\n",
        "    else:\n",
        "        return values.get(data, data)"
      ],
      "metadata": {
        "id": "1hpYRVKnxIVG"
      },
      "execution_count": 142,
      "outputs": []
    },
    {
      "cell_type": "code",
      "source": [
        "def get_pools(prj_id: str, status: str, endpoint: str, token: str) -> list:\n",
        "    \"\"\"Returns list of pools\n",
        "    \n",
        "    Arguments:\n",
        "        prj_id: project id\n",
        "        status: pool status (OPEN, CLOSED, ARCHIVED)\n",
        "        endpoint: endpoint (sandbox or prod)\n",
        "        token: toloka token (sandbox or prod)\n",
        "    \"\"\"\n",
        "    params = {\n",
        "            'project_id': prj_id,\n",
        "            'status': status.upper()\n",
        "        }\n",
        "    return get_call(endpoint, 'pools', token, params)['items']"
      ],
      "metadata": {
        "id": "so-3LA2A110M"
      },
      "execution_count": 143,
      "outputs": []
    },
    {
      "cell_type": "code",
      "source": [
        "def get_skill(endpoint: str, skill_id: str, token: str) -> dict:\n",
        "    \"\"\"Returns dict with data the requested skill\n",
        "\n",
        "    Arguments:\n",
        "        endpoint: endpoint (sandbox or prod)\n",
        "        skill_id: skill id\n",
        "        token: toloka token (sandbox or prod)\n",
        "    \"\"\"\n",
        "    return get_call(endpoint, f'skills/{skill_id}', token)"
      ],
      "metadata": {
        "id": "dneej8610AUk"
      },
      "execution_count": 144,
      "outputs": []
    },
    {
      "cell_type": "code",
      "source": [
        "def create_skill(name: str, endpoint: str, token: str) -> dict:\n",
        "    \"\"\"Returns dict with info about the created skill\n",
        "    \n",
        "    Arguments:\n",
        "        name: skill name\n",
        "        endpoint: endpoint (sandbox or prod)\n",
        "        token: toloka token (sandbox or prod)\n",
        "    \"\"\"\n",
        "    data = {\"name\": f\"{name}\"}\n",
        "    return post_call(endpoint, 'skills', token, data=json.dumps(data))"
      ],
      "metadata": {
        "id": "mRXpgFkN2Lc_"
      },
      "execution_count": 145,
      "outputs": []
    },
    {
      "cell_type": "code",
      "source": [
        "# Получаем проект из прод версии толоки\n",
        "project_from = get_call(PROD_ENDPOINT, \"projects/108202\", PROD_TOKEN)\n",
        "# Создаём проет в песочнице\n",
        "project_to = post_call(SANDBOX_ENDPOINT, 'projects', SANDBOX_TOKEN, data=json.dumps(project_from))"
      ],
      "metadata": {
        "id": "5B5rn8UTeHyd"
      },
      "execution_count": 146,
      "outputs": []
    },
    {
      "cell_type": "code",
      "source": [
        "# Получаем все пулы из прод версии проекта\n",
        "pool_list = get_pools('108202', 'CLOSED', PROD_ENDPOINT, PROD_TOKEN)\n",
        "\n",
        "# Получаем интересующий нас пул\n",
        "interest_pool = pool_list[2]\n",
        "\n",
        "# Меняем id проекта у полученного пула\n",
        "interest_pool['project_id'] = project_to['id']\n",
        "\n",
        "# Удаляем id пула\n",
        "interest_pool.pop('id')"
      ],
      "metadata": {
        "colab": {
          "base_uri": "https://localhost:8080/",
          "height": 35
        },
        "id": "8wKiCuPWEVWq",
        "outputId": "11278e87-7ae1-43d9-a311-f948da157082"
      },
      "execution_count": 147,
      "outputs": [
        {
          "output_type": "execute_result",
          "data": {
            "text/plain": [
              "'35473451'"
            ],
            "application/vnd.google.colaboratory.intrinsic+json": {
              "type": "string"
            }
          },
          "metadata": {},
          "execution_count": 147
        }
      ]
    },
    {
      "cell_type": "code",
      "source": [
        "# Создаём тренировочный пул в песочнице если он есть на проде\n",
        "if interest_pool['quality_control'].get('training_requirement'):\n",
        "    prod_training = get_call(PROD_ENDPOINT, \"trainings/35504690\", PROD_TOKEN)\n",
        "    prod_training.pop('id')\n",
        "    prod_training['project_id'] = project_to['id']\n",
        "\n",
        "    sandbox_training = post_call(SANDBOX_ENDPOINT, 'trainings', SANDBOX_TOKEN, data=json.dumps(prod_training))\n",
        "    interest_pool['quality_control']['training_requirement']['training_pool_id'] = sandbox_training['id']"
      ],
      "metadata": {
        "id": "g6FOCwfpBrxK"
      },
      "execution_count": 148,
      "outputs": []
    },
    {
      "cell_type": "code",
      "source": [
        "# Получаем id всех скилов \n",
        "skill_ids = set(get_values_from_dict(['key', 'answer_weight_skill_id', 'skill_id'], interest_pool))\n",
        "skill_ids"
      ],
      "metadata": {
        "id": "ltHaYtQNt2CD",
        "colab": {
          "base_uri": "https://localhost:8080/"
        },
        "outputId": "79a971dd-6280-4f9b-c5d9-911431d4806a"
      },
      "execution_count": 149,
      "outputs": [
        {
          "output_type": "execute_result",
          "data": {
            "text/plain": [
              "{'25653', '26711', '29716', '35246', '35248', '35249', '44819'}"
            ]
          },
          "metadata": {},
          "execution_count": 149
        }
      ]
    },
    {
      "cell_type": "code",
      "source": [
        "# Получаем скилы из прод версии и создаём с таким же именем в песочнице\n",
        "new_val = {}\n",
        "for i in tqdm(skill_ids):\n",
        "    skill = get_skill(PROD_ENDPOINT, i, PROD_TOKEN)\n",
        "    new_val[i] = create_skill(skill['name'], SANDBOX_ENDPOINT, SANDBOX_TOKEN)['id']"
      ],
      "metadata": {
        "colab": {
          "base_uri": "https://localhost:8080/"
        },
        "id": "EAdMdQFg8g5x",
        "outputId": "f1043036-6958-47dd-a873-5fc30c7ffb81"
      },
      "execution_count": 153,
      "outputs": [
        {
          "output_type": "stream",
          "name": "stderr",
          "text": [
            "100%|██████████| 7/7 [00:14<00:00,  2.11s/it]\n"
          ]
        }
      ]
    },
    {
      "cell_type": "code",
      "source": [
        "new_val"
      ],
      "metadata": {
        "colab": {
          "base_uri": "https://localhost:8080/"
        },
        "id": "MnbZI0yGNQtq",
        "outputId": "5d8e8b3c-3e72-4e26-9faf-d5bbb0276dad"
      },
      "execution_count": 157,
      "outputs": [
        {
          "output_type": "execute_result",
          "data": {
            "text/plain": [
              "{'29716': '11689',\n",
              " '25653': '11690',\n",
              " '26711': '11691',\n",
              " '35246': '11692',\n",
              " '35248': '11693',\n",
              " '35249': '11694',\n",
              " '44819': '11695'}"
            ]
          },
          "metadata": {},
          "execution_count": 157
        }
      ]
    },
    {
      "cell_type": "code",
      "source": [
        "# Обновляем данные(id скилов) у пула\n",
        "upd_pool = deep_upd_dict(interest_pool, new_val)"
      ],
      "metadata": {
        "id": "U7AAvfSd-HuC"
      },
      "execution_count": 155,
      "outputs": []
    },
    {
      "cell_type": "code",
      "source": [
        "# Создаём пул в песочнице\n",
        "post_call(SANDBOX_ENDPOINT, 'pools', SANDBOX_TOKEN, data=json.dumps(upd_pool))"
      ],
      "metadata": {
        "id": "Fd6S40Yy-hg2"
      },
      "execution_count": null,
      "outputs": []
    }
  ]
}