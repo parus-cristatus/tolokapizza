{
  "nbformat": 4,
  "nbformat_minor": 0,
  "metadata": {
    "colab": {
      "provenance": [],
      "authorship_tag": "ABX9TyNtNOeMPB2GTnBgYmQT6mA4",
      "include_colab_link": true
    },
    "kernelspec": {
      "name": "python3",
      "display_name": "Python 3"
    },
    "language_info": {
      "name": "python"
    }
  },
  "cells": [
    {
      "cell_type": "markdown",
      "metadata": {
        "id": "view-in-github",
        "colab_type": "text"
      },
      "source": [
        "<a href=\"https://colab.research.google.com/github/parus-cristatus/tolokapizza/blob/main/tolokakit/AssignmentsObserver_with_log.ipynb\" target=\"_parent\"><img src=\"https://colab.research.google.com/assets/colab-badge.svg\" alt=\"Open In Colab\"/></a>"
      ]
    },
    {
      "cell_type": "code",
      "execution_count": null,
      "metadata": {
        "id": "etAMmQ7Bk-EG"
      },
      "outputs": [],
      "source": [
        "!pip install toloka-kit\n",
        "!pip install nest-asyncio"
      ]
    },
    {
      "cell_type": "code",
      "source": [
        "import logging\n",
        "import sys\n",
        "import toloka.client as toloka\n",
        "from datetime import timedelta\n",
        "from toloka.streaming import Pipeline, AssignmentsObserver"
      ],
      "metadata": {
        "id": "Dc3AfyGnlRdE"
      },
      "execution_count": 3,
      "outputs": []
    },
    {
      "cell_type": "code",
      "source": [
        "target = 'SANDBOX' #PRODUCTION\n",
        "toloka_client = toloka.TolokaClient(input(\"Enter your token:\"), target)\n",
        "print(toloka_client.get_requester())"
      ],
      "metadata": {
        "id": "4_E36kjglbAI"
      },
      "execution_count": null,
      "outputs": []
    },
    {
      "cell_type": "code",
      "source": [
        "pool = toloka_client.get_pool(pool_id='1315173')"
      ],
      "metadata": {
        "id": "6i9ZgmLZliNo"
      },
      "execution_count": 5,
      "outputs": []
    },
    {
      "cell_type": "code",
      "source": [
        "for handler in logging.root.handlers[:]:\n",
        "    logging.root.removeHandler(handler)\n",
        "\n",
        "logging.basicConfig(filename='log.log',\n",
        "                    filemode='a',\n",
        "                    format='%(asctime)s %(message)s', \n",
        "                    datefmt='%d.%m.%Y %H:%M:%S',\n",
        "                    level=logging.INFO\n",
        "                    )"
      ],
      "metadata": {
        "id": "DPqkq2YCl2jc"
      },
      "execution_count": 6,
      "outputs": []
    },
    {
      "cell_type": "code",
      "source": [
        "def handle_accepted(events):\n",
        "    for event in events:\n",
        "        logging.info(f\"{event}\")"
      ],
      "metadata": {
        "id": "9RzDK1ZDl6Ew"
      },
      "execution_count": 7,
      "outputs": []
    },
    {
      "cell_type": "code",
      "source": [
        "observer = AssignmentsObserver(toloka_client, pool_id=pool.id)\n",
        "observer.on_accepted(handle_accepted)"
      ],
      "metadata": {
        "colab": {
          "base_uri": "https://localhost:8080/"
        },
        "id": "7b5gb_mimN_b",
        "outputId": "74edb7bb-b2f7-461d-d974-9092d99a119f"
      },
      "execution_count": 8,
      "outputs": [
        {
          "output_type": "execute_result",
          "data": {
            "text/plain": [
              "<function __main__.handle_accepted(events)>"
            ]
          },
          "metadata": {},
          "execution_count": 8
        }
      ]
    },
    {
      "cell_type": "code",
      "source": [
        "pipeline = Pipeline(period=timedelta(seconds=10))\n",
        "pipeline.register(observer)\n",
        "\n",
        "pool = toloka_client.open_pool(pool.id)\n",
        "print(f'pool - {pool.status}')"
      ],
      "metadata": {
        "id": "tpX_WWy6mZ7n"
      },
      "execution_count": null,
      "outputs": []
    },
    {
      "cell_type": "code",
      "source": [
        "IN_COLAB = 'google.colab' in sys.modules\n",
        "IN_COLAB"
      ],
      "metadata": {
        "id": "C6se593VmnuX"
      },
      "execution_count": null,
      "outputs": []
    },
    {
      "cell_type": "code",
      "source": [
        "if IN_COLAB:\n",
        "    import nest_asyncio, asyncio\n",
        "    nest_asyncio.apply()\n",
        "    asyncio.get_event_loop().run_until_complete(pipeline.run())"
      ],
      "metadata": {
        "id": "EBlWyrs4msID"
      },
      "execution_count": 12,
      "outputs": []
    }
  ]
}