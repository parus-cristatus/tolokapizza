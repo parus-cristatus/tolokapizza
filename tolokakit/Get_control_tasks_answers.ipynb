{
  "nbformat": 4,
  "nbformat_minor": 0,
  "metadata": {
    "colab": {
      "name": "Get_control_tasks_answers.ipynb",
      "provenance": [],
      "authorship_tag": "ABX9TyOvjbtFzhEVlMzjxAFGPkgc",
      "include_colab_link": true
    },
    "kernelspec": {
      "name": "python3",
      "display_name": "Python 3"
    },
    "language_info": {
      "name": "python"
    }
  },
  "cells": [
    {
      "cell_type": "markdown",
      "metadata": {
        "id": "view-in-github",
        "colab_type": "text"
      },
      "source": [
        "<a href=\"https://colab.research.google.com/github/parus-cristatus/tolokapizza/blob/main/tolokakit/Get_control_tasks_answers.ipynb\" target=\"_parent\"><img src=\"https://colab.research.google.com/assets/colab-badge.svg\" alt=\"Open In Colab\"/></a>"
      ]
    },
    {
      "cell_type": "code",
      "execution_count": null,
      "metadata": {
        "id": "5I9WPlMREfD6"
      },
      "outputs": [],
      "source": [
        "!pip install toloka-kit"
      ]
    },
    {
      "cell_type": "code",
      "source": [
        "import toloka.client as toloka"
      ],
      "metadata": {
        "id": "Jh0HN_jwE1b8"
      },
      "execution_count": 3,
      "outputs": []
    },
    {
      "cell_type": "code",
      "source": [
        "target = 'SANDBOX'\n",
        "# target = 'PRODUCTION'\n",
        "token = 'XXXXXXXXXXXXXXXXXXXX'\n",
        "\n",
        "toloka_client = toloka.TolokaClient(token=token, environment=target)\n",
        "requester = toloka_client.get_requester()\n",
        "print(requester)"
      ],
      "metadata": {
        "id": "hRBoW__zEiUy"
      },
      "execution_count": null,
      "outputs": []
    },
    {
      "cell_type": "code",
      "source": [
        "assignments = toloka_client.get_assignments(pool_id='1187828', status='ACCEPTED')\n",
        "assignment_list = [assignment for assignment in assignments]\n",
        "solutions_list = [result.solutions for result in assignment_list]\n",
        "tasks_list = [result.tasks for result in assignment_list]\n",
        "\n",
        "def get_solutions_idx(tasks_list: list) -> list:\n",
        "    idx_list = []\n",
        "    for task in tasks_list:\n",
        "        for idx, t in enumerate(task):\n",
        "            if t.known_solutions:\n",
        "                idx_list.append((idx, t.id))\n",
        "\n",
        "    return idx_list\n",
        "\n",
        "idx_list = get_solutions_idx(tasks_list)\n",
        "\n",
        "for solution, idx in zip(solutions_list, idx_list):\n",
        "    print(f\"{idx[1]}: {solution[idx[0]].output_values}\")"
      ],
      "metadata": {
        "id": "pbR4_Od5FASg"
      },
      "execution_count": null,
      "outputs": []
    }
  ]
}