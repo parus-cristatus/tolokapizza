{
  "nbformat": 4,
  "nbformat_minor": 0,
  "metadata": {
    "colab": {
      "name": "Get_specific_output_field_values.ipynb",
      "provenance": [],
      "collapsed_sections": [],
      "authorship_tag": "ABX9TyOdZrtr1Wwk1SLG2bPFtl/a",
      "include_colab_link": true
    },
    "kernelspec": {
      "name": "python3",
      "display_name": "Python 3"
    },
    "language_info": {
      "name": "python"
    }
  },
  "cells": [
    {
      "cell_type": "markdown",
      "metadata": {
        "id": "view-in-github",
        "colab_type": "text"
      },
      "source": [
        "<a href=\"https://colab.research.google.com/github/parus-cristatus/tolokapizza/blob/main/tolokakit/Get_specific_output_field_values.ipynb\" target=\"_parent\"><img src=\"https://colab.research.google.com/assets/colab-badge.svg\" alt=\"Open In Colab\"/></a>"
      ]
    },
    {
      "cell_type": "code",
      "execution_count": null,
      "metadata": {
        "id": "cP4PzDxp-ERm"
      },
      "outputs": [],
      "source": [
        "!pip install toloka-kit"
      ]
    },
    {
      "cell_type": "code",
      "source": [
        "import toloka.client as toloka"
      ],
      "metadata": {
        "id": "ipiZOoap_KqE"
      },
      "execution_count": null,
      "outputs": []
    },
    {
      "cell_type": "code",
      "source": [
        "target = 'SANDBOX' #PRODUCTION\n",
        "token = 'token'\n",
        "toloka_client = toloka.TolokaClient(token, target)\n",
        "print(toloka_client.get_requester())"
      ],
      "metadata": {
        "id": "aZ8WnVl3_MUR"
      },
      "execution_count": null,
      "outputs": []
    },
    {
      "cell_type": "code",
      "source": [
        "assignments = toloka_client.get_assignments(pool_id='1200941', status='SUBMITTED')\n",
        "assignment_list = [assignment for assignment in assignments]\n",
        "solutions_list = [result.solutions for result in assignment_list]\n",
        "result_list = [i[0].output_values['result'] for i in solutions_list]\n",
        "result_list"
      ],
      "metadata": {
        "id": "jOX21AYY_RVm"
      },
      "execution_count": null,
      "outputs": []
    }
  ]
}