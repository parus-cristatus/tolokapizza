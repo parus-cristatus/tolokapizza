{
  "nbformat": 4,
  "nbformat_minor": 0,
  "metadata": {
    "colab": {
      "provenance": [],
      "authorship_tag": "ABX9TyPmtqa+Pz39BmSIwUunMAJm",
      "include_colab_link": true
    },
    "kernelspec": {
      "name": "python3",
      "display_name": "Python 3"
    },
    "language_info": {
      "name": "python"
    }
  },
  "cells": [
    {
      "cell_type": "markdown",
      "metadata": {
        "id": "view-in-github",
        "colab_type": "text"
      },
      "source": [
        "<a href=\"https://colab.research.google.com/github/parus-cristatus/tolokapizza/blob/main/tolokakit/save_assignments_from_pool_to_tsv.ipynb\" target=\"_parent\"><img src=\"https://colab.research.google.com/assets/colab-badge.svg\" alt=\"Open In Colab\"/></a>"
      ]
    },
    {
      "cell_type": "markdown",
      "source": [
        "**Docs:** https://toloka.ai/en/docs/toloka-kit/reference/toloka.client.TolokaClient.get_assignments_df"
      ],
      "metadata": {
        "id": "lLvUk2awapwb"
      }
    },
    {
      "cell_type": "code",
      "source": [
        "!pip install toloka-kit"
      ],
      "metadata": {
        "id": "QRBC6mWUas7S"
      },
      "execution_count": null,
      "outputs": []
    },
    {
      "cell_type": "code",
      "source": [
        "import toloka.client as toloka\n",
        "from toloka.client import GetAssignmentsTsvParameters as fieldName"
      ],
      "metadata": {
        "id": "SR_unsDSa84X"
      },
      "execution_count": 14,
      "outputs": []
    },
    {
      "cell_type": "code",
      "source": [
        "target = 'SANDBOX'\n",
        "# target = 'PRODUCTION'\n",
        "\n",
        "toloka_client = toloka.TolokaClient(token='XXXXXXXXXXXXXXXXXXXXXXXXXXXXX', environment=target)\n",
        "requester = toloka_client.get_requester()\n",
        "print(requester)"
      ],
      "metadata": {
        "id": "OIU4vQOEbAeq"
      },
      "execution_count": null,
      "outputs": []
    },
    {
      "cell_type": "code",
      "source": [
        "field = fieldName.Field"
      ],
      "metadata": {
        "id": "Dbc_o3fJbGHL"
      },
      "execution_count": 16,
      "outputs": []
    },
    {
      "cell_type": "code",
      "source": [
        "pool = '1181996' #pool ID\n",
        "raw_assignments = toloka_client.get_assignments_df(pool_id=pool, field=[field.ASSIGNMENT_ID, field.TASK_ID, field.REWARD])\n",
        "print(len(raw_assignments))\n",
        "processed_assignments = raw_assignments.drop(columns=['HINT:text', 'HINT:default_language'])\n",
        "#processed_assignments = raw_assignments.drop_duplicates(subset=['ASSIGNMENT:assignment_id'])\n",
        "#processed_assignments.dropna(axis=1, how='all').reset_index(drop=True)\n",
        "processed_assignments.to_csv(f\"assignmentsFrom{pool}.tsv\", index=False, sep='\\t')"
      ],
      "metadata": {
        "colab": {
          "base_uri": "https://localhost:8080/"
        },
        "id": "7zYKHIvybYHW",
        "outputId": "a64ac77d-c450-4438-ccd0-520d1ec1816b"
      },
      "execution_count": 17,
      "outputs": [
        {
          "output_type": "stream",
          "name": "stderr",
          "text": [
            "WARNING:toloka.client:Experimental method\n"
          ]
        },
        {
          "output_type": "stream",
          "name": "stdout",
          "text": [
            "2759\n"
          ]
        }
      ]
    }
  ]
}