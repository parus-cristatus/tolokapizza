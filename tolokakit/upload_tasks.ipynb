{
  "nbformat": 4,
  "nbformat_minor": 0,
  "metadata": {
    "colab": {
      "name": "upload_tasks.ipynb",
      "provenance": [],
      "authorship_tag": "ABX9TyN2FhFzflXjPJcDSatfLbLc",
      "include_colab_link": true
    },
    "kernelspec": {
      "name": "python3",
      "display_name": "Python 3"
    },
    "language_info": {
      "name": "python"
    }
  },
  "cells": [
    {
      "cell_type": "markdown",
      "metadata": {
        "id": "view-in-github",
        "colab_type": "text"
      },
      "source": [
        "<a href=\"https://colab.research.google.com/github/parus-cristatus/tolokapizza/blob/main/tolokakit/upload_tasks.ipynb\" target=\"_parent\"><img src=\"https://colab.research.google.com/assets/colab-badge.svg\" alt=\"Open In Colab\"/></a>"
      ]
    },
    {
      "cell_type": "markdown",
      "source": [
        "*Toloka Kit docs:* https://toloka.ai/en/docs/toloka-kit/reference/toloka.client.TolokaClient.create_tasks"
      ],
      "metadata": {
        "id": "YJcOiFQe7_8M"
      }
    },
    {
      "cell_type": "code",
      "execution_count": null,
      "metadata": {
        "id": "9f6feAT974PZ"
      },
      "outputs": [],
      "source": [
        "!pip install toloka-kit"
      ]
    },
    {
      "cell_type": "code",
      "source": [
        "import toloka.client as toloka\n",
        "import pandas as pd"
      ],
      "metadata": {
        "id": "K5h_LAjx8Yzq"
      },
      "execution_count": 10,
      "outputs": []
    },
    {
      "cell_type": "code",
      "source": [
        "toloka_client = toloka.TolokaClient(input('Enter your token:'), 'SANDBOX') #PRODUCTION\n",
        "print(toloka_client.get_requester())"
      ],
      "metadata": {
        "id": "9-2AZHeT8dJc"
      },
      "execution_count": null,
      "outputs": []
    },
    {
      "cell_type": "code",
      "source": [
        "pool_id = '1188888'\n",
        "general_tasks_df = pd.read_csv('general_tasks.tsv', sep='\\t')\n",
        "golden_tasks_df = pd.read_csv('golden_tasks.tsv', sep='\\t')"
      ],
      "metadata": {
        "id": "F5cCXKgC-Kqr"
      },
      "execution_count": 50,
      "outputs": []
    },
    {
      "cell_type": "code",
      "source": [
        "tasks = [\n",
        "         toloka.task.Task(\n",
        "             pool_id=pool_id,\n",
        "             input_values={\n",
        "                 'image': row['INPUT:image']\n",
        "                 },\n",
        "                 ) for i, row in general_tasks_df.iterrows()\n",
        "         ]"
      ],
      "metadata": {
        "id": "9K3S_PCUAeW-"
      },
      "execution_count": null,
      "outputs": []
    },
    {
      "cell_type": "code",
      "source": [
        "general_tasks = toloka_client.create_tasks(tasks, allow_defaults=True)\n",
        "print(len(general_tasks.items))"
      ],
      "metadata": {
        "id": "5fteoXifBU9f"
      },
      "execution_count": null,
      "outputs": []
    },
    {
      "cell_type": "code",
      "source": [
        "golden_tasks = [\n",
        "    toloka.Task(\n",
        "        pool_id=pool_id,\n",
        "        input_values={'image': row[1]},\n",
        "        known_solutions = [\n",
        "            toloka.task.BaseTask.KnownSolution(\n",
        "                output_values={'result': row[2]}\n",
        "            )\n",
        "        ],\n",
        "        infinite_overlap=True,\n",
        "    )\n",
        "    for row in golden_tasks_df.itertuples()\n",
        "]"
      ],
      "metadata": {
        "id": "W-89ir-JCa11"
      },
      "execution_count": null,
      "outputs": []
    },
    {
      "cell_type": "code",
      "source": [
        "golden_tasks_create = toloka_client.create_tasks(golden_tasks)\n",
        "print(len(golden_tasks_create.items))"
      ],
      "metadata": {
        "id": "99tVPMkVDQNh"
      },
      "execution_count": null,
      "outputs": []
    }
  ]
}