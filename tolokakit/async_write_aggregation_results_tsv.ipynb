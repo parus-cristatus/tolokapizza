{
  "nbformat": 4,
  "nbformat_minor": 0,
  "metadata": {
    "colab": {
      "name": "async_write_aggregation_results_tsv.ipynb",
      "provenance": [],
      "authorship_tag": "ABX9TyP2WZLd6AB3bxf4YNDRt5XI",
      "include_colab_link": true
    },
    "kernelspec": {
      "name": "python3",
      "display_name": "Python 3"
    },
    "language_info": {
      "name": "python"
    }
  },
  "cells": [
    {
      "cell_type": "markdown",
      "metadata": {
        "id": "view-in-github",
        "colab_type": "text"
      },
      "source": [
        "<a href=\"https://colab.research.google.com/github/parus-cristatus/tolokapizza/blob/main/tolokakit/async_write_aggregation_results_tsv.ipynb\" target=\"_parent\"><img src=\"https://colab.research.google.com/assets/colab-badge.svg\" alt=\"Open In Colab\"/></a>"
      ]
    },
    {
      "cell_type": "code",
      "execution_count": null,
      "metadata": {
        "id": "P4hd3SMoH0oI"
      },
      "outputs": [],
      "source": [
        "!pip install toloka-kit"
      ]
    },
    {
      "cell_type": "code",
      "source": [
        "import asyncio\n",
        "import time\n",
        "import nest_asyncio\n",
        "import csv\n",
        "import toloka.async_client as async_toloka"
      ],
      "metadata": {
        "id": "5xE-FU9lIuV2"
      },
      "execution_count": 5,
      "outputs": []
    },
    {
      "cell_type": "code",
      "source": [
        "target = 'SANDBOX'\n",
        "# target = 'PRODUCTION'\n",
        "token = 'XXXXXXXXXXXXXXXXXXXXXXXXXXXX'\n",
        "\n",
        "async_toloka_client = async_toloka.AsyncTolokaClient(token=token, environment=target)"
      ],
      "metadata": {
        "id": "Zb2WWgGlMPV6"
      },
      "execution_count": 6,
      "outputs": []
    },
    {
      "cell_type": "code",
      "source": [
        "nest_asyncio.apply()\n",
        "\n",
        "start = time.time()\n",
        "\n",
        "def write_tsv(tup: tuple):\n",
        "    with open('aggr_results.tsv', 'w', newline='') as csv_file:\n",
        "        fieldnames = ['input_values', 'confidence', 'output_values']\n",
        "        writer = csv.DictWriter(csv_file, fieldnames=fieldnames, delimiter='\\t')\n",
        "\n",
        "        writer.writeheader()\n",
        "        for item in zip(*tup):\n",
        "            writer.writerow({'input_values': item[0].input_values, 'confidence': item[1][0], 'output_values': item[1][1]})\n",
        "\n",
        "async def get_aggr_result():\n",
        "    tasks = []\n",
        "    solutions = []\n",
        "    aggr_solutions = await async_toloka_client.get_aggregated_solutions('ba3eacb8-5vb9-4226-67ff-78h56d7a9220') #operation_id\n",
        "    \n",
        "    for solution in aggr_solutions:\n",
        "        tasks.append(asyncio.create_task(async_toloka_client.get_task(task_id=solution.task_id)))\n",
        "        solutions.append((solution.confidence, solution.output_values))\n",
        "    input_values = await asyncio.gather(*tasks)\n",
        "    \n",
        "    return input_values, solutions\n",
        "\n",
        "result = asyncio.run(get_aggr_result())\n",
        "write_tsv(result)\n",
        "\n",
        "print(f\"{time.time() - start}\")"
      ],
      "metadata": {
        "id": "V8bQdwVfJrZs"
      },
      "execution_count": null,
      "outputs": []
    }
  ]
}