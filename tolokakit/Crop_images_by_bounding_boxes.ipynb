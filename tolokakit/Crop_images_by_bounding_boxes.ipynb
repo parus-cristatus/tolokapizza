{
  "nbformat": 4,
  "nbformat_minor": 0,
  "metadata": {
    "colab": {
      "provenance": [],
      "authorship_tag": "ABX9TyPIOPXFaabPodzpmy1n5zWi",
      "include_colab_link": true
    },
    "kernelspec": {
      "name": "python3",
      "display_name": "Python 3"
    },
    "language_info": {
      "name": "python"
    }
  },
  "cells": [
    {
      "cell_type": "markdown",
      "metadata": {
        "id": "view-in-github",
        "colab_type": "text"
      },
      "source": [
        "<a href=\"https://colab.research.google.com/github/parus-cristatus/tolokapizza/blob/main/tolokakit/Crop_images_by_bounding_boxes.ipynb\" target=\"_parent\"><img src=\"https://colab.research.google.com/assets/colab-badge.svg\" alt=\"Open In Colab\"/></a>"
      ]
    },
    {
      "cell_type": "markdown",
      "source": [
        "Template used for the snippet: http://bit.ly/3EqCDtQ\n",
        "Multiple objects can be outlined\n",
        "\n",
        "Sample image links:\n",
        "\n",
        "https://tolokaadmin.s3.yandex.net/demo/datasets/ed178eb2-31e1-4da9-81f0-3c363b11ba5a\n",
        "\n",
        "https://tolokaadmin.s3.yandex.net/demo/datasets/f4ec9a85-e2e2-4bad-acd9-adde40f07b9c\n",
        "\n",
        "https://tolokaadmin.s3.yandex.net/demo/datasets/c80c3145-03e7-4030-8c67-0772a8056d42\n",
        "\n",
        "Cropped images are matched with original image by using part of its ID"
      ],
      "metadata": {
        "id": "AFKfgCgQu2UI"
      }
    },
    {
      "cell_type": "code",
      "execution_count": null,
      "metadata": {
        "id": "lTYSm05VuK-B"
      },
      "outputs": [],
      "source": [
        "!pip install toloka-kit"
      ]
    },
    {
      "cell_type": "code",
      "source": [
        "import toloka.client as toloka\n",
        "import requests\n",
        "from PIL import Image"
      ],
      "metadata": {
        "id": "bwYM72JfuV7Y"
      },
      "execution_count": 2,
      "outputs": []
    },
    {
      "cell_type": "code",
      "source": [
        "target = 'SANDBOX' #PRODUCTION\n",
        "toloka_client = toloka.TolokaClient(input(\"Enter your token:\"), target)\n",
        "print(toloka_client.get_requester())"
      ],
      "metadata": {
        "id": "ywiUyCUkue-P"
      },
      "execution_count": null,
      "outputs": []
    },
    {
      "cell_type": "code",
      "source": [
        "POOL = '1335298' # Pool ID to get accepted assignments from"
      ],
      "metadata": {
        "id": "cwQZRbm5uhqT"
      },
      "execution_count": 4,
      "outputs": []
    },
    {
      "cell_type": "code",
      "source": [
        "# get required data to manipulate\n",
        "\n",
        "assignments = list(toloka_client.get_assignments(pool_id=POOL, status='ACCEPTED')) # assignments must be in accepted status to crop\n",
        "tasks = [assignment.tasks for assignment in assignments]\n",
        "images = [img.input_values['image'] for task in tasks for img in task]\n",
        "bboxes = [sol for assignment in assignments for sol in assignment.solutions]"
      ],
      "metadata": {
        "id": "0KHc3xT9uj8H"
      },
      "execution_count": 5,
      "outputs": []
    },
    {
      "cell_type": "code",
      "source": [
        "for idx, img in enumerate(images):\n",
        "    # print(img)\n",
        "    _id = img.split('-')[-1]\n",
        "    \n",
        "    # create 'imgs' folder for initial images and 'crops' folder for cropped images\n",
        "\n",
        "    with open(f'imgs/pic_{idx}.jpg', 'wb') as handle:\n",
        "        response = requests.get(img, stream=True)\n",
        "        handle.write(response.content)\n",
        "        im = Image.open(f'imgs/pic_{idx}.jpg')\n",
        "        nat_width, nat_height = im.size\n",
        "\n",
        "    for img_idx, coord in enumerate((x for x in bboxes[idx].output_values['result'])):\n",
        "        coords = (\n",
        "            float(coord.get('left')), \n",
        "            float(coord.get('top')), \n",
        "            float(coord.get('width')), \n",
        "            float(coord.get('height'))\n",
        "            )\n",
        "\n",
        "        left = coords[0] * nat_width # result.left\n",
        "        top = coords[1] * nat_height  # result.top\n",
        "\n",
        "        right = left + nat_width * coords[2]  # result.width\n",
        "        bottom = top + nat_height * coords[3]  # result.height\n",
        "\n",
        "        # print(left, top, right, bottom)\n",
        "\n",
        "        im1 = im.crop((left, top, right, bottom))\n",
        "        im1.save(f'crops/{_id}_{img_idx}.jpg')"
      ],
      "metadata": {
        "id": "_S5fb8YsurJo"
      },
      "execution_count": null,
      "outputs": []
    }
  ]
}