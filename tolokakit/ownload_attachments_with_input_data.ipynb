{
  "nbformat": 4,
  "nbformat_minor": 0,
  "metadata": {
    "colab": {
      "name": "Download attachments with input data.ipynb",
      "provenance": [],
      "authorship_tag": "ABX9TyPTDFeEQOzgdwlDq3ZLEO+V",
      "include_colab_link": true
    },
    "kernelspec": {
      "name": "python3",
      "display_name": "Python 3"
    },
    "language_info": {
      "name": "python"
    }
  },
  "cells": [
    {
      "cell_type": "markdown",
      "metadata": {
        "id": "view-in-github",
        "colab_type": "text"
      },
      "source": [
        "<a href=\"https://colab.research.google.com/github/parus-cristatus/tolokapizza/blob/main/tolokakit/ownload_attachments_with_input_data.ipynb\" target=\"_parent\"><img src=\"https://colab.research.google.com/assets/colab-badge.svg\" alt=\"Open In Colab\"/></a>"
      ]
    },
    {
      "cell_type": "code",
      "execution_count": null,
      "metadata": {
        "id": "OWxcYATNOkbh"
      },
      "outputs": [],
      "source": [
        "!pip install toloka-kit"
      ]
    },
    {
      "cell_type": "code",
      "source": [
        "import toloka.client as toloka\n",
        "import os\n",
        "import json\n",
        "import shutil"
      ],
      "metadata": {
        "id": "zJ_jvOl4PaTo"
      },
      "execution_count": 14,
      "outputs": []
    },
    {
      "cell_type": "code",
      "source": [
        "toloka_client = toloka.TolokaClient(input('Enter your token:'), 'SANDBOX') #PRODUCTION\n",
        "print(toloka_client.get_requester())"
      ],
      "metadata": {
        "id": "253aYo-APm5b"
      },
      "execution_count": null,
      "outputs": []
    },
    {
      "cell_type": "code",
      "source": [
        "output_field_name = 'audio_file'\n",
        "pool_id='1155555'\n",
        "\n",
        "assignment_list = toloka_client.get_assignments(pool_id=pool_id)\n",
        "\n",
        "names = set()\n",
        "\n",
        "# create directory\n",
        "os.makedirs('attachments', exist_ok=True)"
      ],
      "metadata": {
        "id": "YYiLPRi0OmKg"
      },
      "execution_count": 20,
      "outputs": []
    },
    {
      "cell_type": "code",
      "source": [
        "def make_dir(assignment_id: str):\n",
        "    os.makedirs(f'attachments/{assignment_id}', exist_ok=True)\n",
        "\n",
        "def download_attachment(name: str, ext: str, att_id: str, dir_: str = ''):\n",
        "    with open(f'./attachments/{dir_}{name}.{ext}', 'wb') as out_f:\n",
        "        toloka_client.download_attachment(attachment_id=att_id, out=out_f)\n",
        "\n",
        "def change_name(names: set, file_name: str, name_as_id: bool = False) -> str:\n",
        "    if name_as_id:\n",
        "        if file_name in names:\n",
        "            file_name = attachment.id\n",
        "    else:\n",
        "        if file_name in names:\n",
        "            file_name += f\"_{attachment.id[-5:]}\"\n",
        "\n",
        "    return file_name\n",
        "\n",
        "def remove_files(rmdirs: bool = False):\n",
        "    dir_names = next(os.walk(f'./attachments/'))[1]\n",
        "    if rmdirs:\n",
        "        for name in dir_names:\n",
        "            if name != '.ipynb_checkpoints':\n",
        "                files = next(os.walk(f'./attachments/{name}/'))[2]\n",
        "                for file_ in files:\n",
        "                    os.remove(f'./attachments/{name}/{file_}')\n",
        "            os.rmdir(path=f'./attachments/{name}')\n",
        "\n",
        "    files = next(os.walk(f'./attachments/'))[2]\n",
        "    for file_ in files:\n",
        "        os.remove(f'./attachments/{file_}')"
      ],
      "metadata": {
        "id": "LNvOrXTdOwkn"
      },
      "execution_count": 21,
      "outputs": []
    },
    {
      "cell_type": "code",
      "source": [
        "for assignment in assignment_list:\n",
        "    input_values = {}\n",
        "    make_dir(assignment.id)\n",
        "    dir_path = f'{assignment.id}/'\n",
        "\n",
        "    for item in zip(assignment.solutions, assignment.tasks):\n",
        "        attachment_id = item[0].output_values.get(output_field_name)\n",
        "        input_value = item[1].input_values\n",
        "        input_values[attachment_id] = input_value\n",
        "\n",
        "        attachment = toloka_client.get_attachment(attachment_id=attachment_id)\n",
        "        name, extension = attachment.name.split('.')\n",
        "        names.add(name)\n",
        "\n",
        "        new_name = change_name(names=names, file_name=name, name_as_id=False)\n",
        "\n",
        "        download_attachment(name=new_name, ext=extension, att_id=attachment_id, dir_=dir_path)\n",
        "    \n",
        "    with open(file=f'./attachments/{dir_path}inputs.json', mode='w', encoding='utf-8') as f:\n",
        "        json.dump(input_values, f, indent=4)"
      ],
      "metadata": {
        "id": "bHRyp7FZO3Bi"
      },
      "execution_count": 22,
      "outputs": []
    },
    {
      "cell_type": "code",
      "source": [
        "# make zip\n",
        "shutil.make_archive(base_name='attachments', format='zip', root_dir='attachments')"
      ],
      "metadata": {
        "id": "4wXdbkkgO8uj"
      },
      "execution_count": null,
      "outputs": []
    },
    {
      "cell_type": "code",
      "source": [
        "# remove all files from /attachments directory\n",
        "remove_files(rmdirs=True)"
      ],
      "metadata": {
        "id": "qvq22XB8O9aC"
      },
      "execution_count": 23,
      "outputs": []
    },
    {
      "cell_type": "code",
      "source": [
        "# Download all attachments in \"attachments\" directory\n",
        "results_list = [attachment for attachment in toloka_client.get_attachments(pool_id=pool_id)]\n",
        "\n",
        "for attachment in results_list:\n",
        "    name, extension = attachment.name.split('.')\n",
        "\n",
        "    names.add(name)\n",
        "    new_name = change_name(names=names, file_name=name, name_as_id=True)\n",
        "    # make_dir(attachment.details.assignment_id)\n",
        "    # dir_path = f'{attachment.details.assignment_id}/'\n",
        "\n",
        "    download_attachment(name=new_name, ext=extension, att_id=attachment.id)"
      ],
      "metadata": {
        "id": "veqUXh_vO_g-"
      },
      "execution_count": 17,
      "outputs": []
    }
  ]
}