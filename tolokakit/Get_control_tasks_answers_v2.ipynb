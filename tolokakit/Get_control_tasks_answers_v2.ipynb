{
  "nbformat": 4,
  "nbformat_minor": 0,
  "metadata": {
    "colab": {
      "provenance": [],
      "authorship_tag": "ABX9TyNWhvkuAeDAeaz3lTGG3l4i",
      "include_colab_link": true
    },
    "kernelspec": {
      "name": "python3",
      "display_name": "Python 3"
    },
    "language_info": {
      "name": "python"
    }
  },
  "cells": [
    {
      "cell_type": "markdown",
      "metadata": {
        "id": "view-in-github",
        "colab_type": "text"
      },
      "source": [
        "<a href=\"https://colab.research.google.com/github/parus-cristatus/tolokapizza/blob/main/tolokakit/Get_control_tasks_answers_v2.ipynb\" target=\"_parent\"><img src=\"https://colab.research.google.com/assets/colab-badge.svg\" alt=\"Open In Colab\"/></a>"
      ]
    },
    {
      "cell_type": "code",
      "execution_count": null,
      "metadata": {
        "id": "JeOCl2S34J0L"
      },
      "outputs": [],
      "source": [
        "!pip install toloka-kit"
      ]
    },
    {
      "cell_type": "code",
      "source": [
        "import toloka.client as toloka\n",
        "import pandas as pd"
      ],
      "metadata": {
        "id": "ZQvPWRA_4ZdR"
      },
      "execution_count": null,
      "outputs": []
    },
    {
      "cell_type": "code",
      "source": [
        "toloka_client = toloka.TolokaClient(input('Enter your token:'), 'PRODUCTION') #SANDBOX\n",
        "print(toloka_client.get_requester())"
      ],
      "metadata": {
        "id": "_aVBzvRn4hx1"
      },
      "execution_count": null,
      "outputs": []
    },
    {
      "cell_type": "code",
      "source": [
        "assignments = toloka_client.get_assignments(pool_id='33642909', status='ACCEPTED')\n",
        "\n",
        "# Create an empty list to store the results\n",
        "results = []\n",
        "\n",
        "# Iterate over all the assignments\n",
        "for assignment in assignments:\n",
        "    assignment_id = assignment.id\n",
        "    \n",
        "    # Iterate over the tasks in the assignment\n",
        "    for i, task in enumerate(assignment.tasks):\n",
        "        if task.known_solutions:\n",
        "            # If the task has a known solution, add the data to the list\n",
        "            results.append([assignment_id, task.known_solutions[0].output_values, assignment.solutions[i].output_values, task.input_values])\n",
        "\n",
        "# Create a DataFrame from the results list\n",
        "df = pd.DataFrame(results, columns=[\"assignment_id\", \"known_solutions\", \"answer\", \"input\"])\n",
        "\n",
        "# Write the DataFrame to an Excel file\n",
        "df.to_excel(\"control_results.xlsx\", index=False)\n"
      ],
      "metadata": {
        "id": "MrYPBOp9A7-1"
      },
      "execution_count": 15,
      "outputs": []
    },
    {
      "cell_type": "code",
      "source": [
        "# Optional way but less readable\n",
        "assignments = toloka_client.get_assignments(pool_id='33642909', status='ACCEPTED')\n",
        "\n",
        "data = [[assignment.id, task.known_solutions[0].output_values, assignment.solutions[i].output_values, task.input_values]\n",
        "         for assignment in assignments\n",
        "         for i, task in enumerate(assignment.tasks)\n",
        "         if task.known_solutions]\n",
        "\n",
        "df = pd.DataFrame(data, columns=[\"assignment_id\", \"known_solutions\", \"answer\", \"input\"])\n",
        "\n",
        "df.to_excel(\"control_results.xlsx\", index=False)\n"
      ],
      "metadata": {
        "id": "FNax7Y9kCA05"
      },
      "execution_count": 17,
      "outputs": []
    }
  ]
}