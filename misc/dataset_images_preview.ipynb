{
  "nbformat": 4,
  "nbformat_minor": 0,
  "metadata": {
    "colab": {
      "name": "dataset_images_preview.ipynb",
      "provenance": [],
      "collapsed_sections": [],
      "include_colab_link": true
    },
    "kernelspec": {
      "name": "python3",
      "display_name": "Python 3"
    },
    "language_info": {
      "name": "python"
    }
  },
  "cells": [
    {
      "cell_type": "markdown",
      "metadata": {
        "id": "view-in-github",
        "colab_type": "text"
      },
      "source": [
        "<a href=\"https://colab.research.google.com/github/parus-cristatus/tolokapizza/blob/main/misc/dataset_images_preview.ipynb\" target=\"_parent\"><img src=\"https://colab.research.google.com/assets/colab-badge.svg\" alt=\"Open In Colab\"/></a>"
      ]
    },
    {
      "cell_type": "markdown",
      "source": [
        "*Upload a tsv file with a column and rows with images' links before start*"
      ],
      "metadata": {
        "id": "XoqDHSHI9Tqi"
      }
    },
    {
      "cell_type": "code",
      "source": [
        "from IPython.display import HTML, display\n",
        "import pandas as pd"
      ],
      "metadata": {
        "id": "JapcC2tkifXb"
      },
      "execution_count": 6,
      "outputs": []
    },
    {
      "cell_type": "code",
      "source": [
        "file_name = 'furniture_data.tsv'\n",
        "column_name = 'INPUT:image'"
      ],
      "metadata": {
        "id": "Qci0QQim9vmR"
      },
      "execution_count": 7,
      "outputs": []
    },
    {
      "cell_type": "code",
      "source": [
        "tsv = pd.read_csv(f'{file_name}', sep='\\t')"
      ],
      "metadata": {
        "id": "VGhjgGdi9nqm"
      },
      "execution_count": 8,
      "outputs": []
    },
    {
      "cell_type": "code",
      "source": [
        "def show_pic(num: int) -> None:\n",
        "    start = 0\n",
        "    stop = num\n",
        "    while True:\n",
        "        display(HTML(f'<h2 style=\"background-color: #cce39f; padding: 1em;\">From: {start} to {stop}</h2>'))\n",
        "        for image in tsv[f'{column_name}'][start:stop]:\n",
        "            display(HTML(f'<p>{image}</p><img src=\"{image}\" style=\"width: 400px\"/>'))\n",
        "\n",
        "        if stop >= len(tsv[f'{column_name}']):\n",
        "            break\n",
        "\n",
        "        start += num\n",
        "        stop += num\n",
        "\n",
        "        input('Press Enter to upload NUM images\\n')"
      ],
      "metadata": {
        "id": "SvIrKcfE9qbP"
      },
      "execution_count": 9,
      "outputs": []
    },
    {
      "cell_type": "code",
      "source": [
        "show_pic(num=10)"
      ],
      "metadata": {
        "id": "aoGrhz3z9tEG"
      },
      "execution_count": null,
      "outputs": []
    }
  ]
}