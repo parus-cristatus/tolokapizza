{
  "nbformat": 4,
  "nbformat_minor": 0,
  "metadata": {
    "colab": {
      "name": "dataset_images_preview.ipynb",
      "provenance": [],
      "collapsed_sections": [],
      "include_colab_link": true
    },
    "kernelspec": {
      "name": "python3",
      "display_name": "Python 3"
    },
    "language_info": {
      "name": "python"
    }
  },
  "cells": [
    {
      "cell_type": "markdown",
      "metadata": {
        "id": "view-in-github",
        "colab_type": "text"
      },
      "source": [
        "<a href=\"https://colab.research.google.com/github/parus-cristatus/tolokapizza/blob/main/misc/dataset_images_preview.ipynb\" target=\"_parent\"><img src=\"https://colab.research.google.com/assets/colab-badge.svg\" alt=\"Open In Colab\"/></a>"
      ]
    },
    {
      "cell_type": "code",
      "source": [
        "from IPython.display import HTML, display\n",
        "import pandas as pd\n",
        "\n",
        "tsv = pd.read_csv('furniture_data.tsv', sep='\\t')\n",
        "\n",
        "def show_pic(num: int) -> None:\n",
        "    start = 0\n",
        "    stop = num\n",
        "    while True:\n",
        "        display(HTML(f'<h2 style=\"background-color: #cce39f; padding: 1em;\">From: {start} to {stop}</h2>'))\n",
        "        for image in tsv['INPUT:image'][start:stop]:\n",
        "            display(HTML(f'<p>{image}</p><img src=\"{image}\" style=\"width: 400px\"/>'))\n",
        "\n",
        "        if stop >= len(tsv['INPUT:image']):\n",
        "            break\n",
        "\n",
        "        start += num\n",
        "        stop += num\n",
        "\n",
        "        input('Press Enter to continue\\n')\n",
        "\n",
        "show_pic(num=10)"
      ],
      "metadata": {
        "id": "JapcC2tkifXb"
      },
      "execution_count": null,
      "outputs": []
    }
  ]
}